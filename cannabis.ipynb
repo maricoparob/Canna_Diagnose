{
  "nbformat": 4,
  "nbformat_minor": 0,
  "metadata": {
    "colab": {
      "provenance": []
    },
    "kernelspec": {
      "name": "python3",
      "display_name": "Python 3"
    },
    "language_info": {
      "name": "python"
    }
  },
  "cells": [
    {
      "cell_type": "code",
      "execution_count": null,
      "metadata": {
        "id": "ayivFEPG9KXJ"
      },
      "outputs": [],
      "source": [
        "# import cv2\n",
        "# import numpy as np\n",
        "# from google.colab.patches import cv2_imshow\n",
        "\n",
        "# # Read the image and convert it to grayscale\n",
        "# img = cv2.imread('cannabis-7.png')\n",
        "# gray = cv2.cvtColor(img, cv2.COLOR_BGR2GRAY)\n",
        "\n",
        "# # Apply edge detection using Canny algorithm to identify the leaf's contour\n",
        "# edges = cv2.Canny(gray, 50, 150)\n",
        "\n",
        "# # Find contours in the image\n",
        "# contours, hierarchy = cv2.findContours(edges, cv2.RETR_TREE, cv2.CHAIN_APPROX_SIMPLE)\n",
        "\n",
        "# # Sort the contours by area to identify the largest one as the leaf\n",
        "# contours = sorted(contours, key=cv2.contourArea, reverse=True)[:1]\n",
        "\n",
        "# # Calculate the orientation of the leaf by finding the angle of the minimum bounding rectangle\n",
        "# rect = cv2.minAreaRect(contours[0])\n",
        "# angle = rect[-1]\n",
        "\n",
        "# # Rotate the image to align the leaf with the x-axis\n",
        "# (h, w) = img.shape[:2]\n",
        "# center = (w // 2, h // 2)\n",
        "# M = cv2.getRotationMatrix2D(center, angle, 1.0)\n",
        "# rotated = cv2.warpAffine(img, M, (w, h), flags=cv2.INTER_CUBIC, borderMode=cv2.BORDER_REPLICATE)\n",
        "\n",
        "# # Convert the image to HSV color space to identify the location of different colors\n",
        "# hsv = cv2.cvtColor(rotated, cv2.COLOR_BGR2HSV)\n",
        "\n",
        "# # Define the lower and upper ranges of the green color in HSV color space\n",
        "# green_lower = np.array([40, 40, 40])\n",
        "# green_upper = np.array([70, 255, 255])\n",
        "\n",
        "# # Convert the color ranges from BGR to HSV format\n",
        "# green_lower_hsv = cv2.cvtColor(np.uint8([[green_lower]]), cv2.COLOR_BGR2HSV)[0][0]\n",
        "# green_upper_hsv = cv2.cvtColor(np.uint8([[green_upper]]), cv2.COLOR_BGR2HSV)[0][0]\n",
        "\n",
        "# # Define the lower and upper ranges of the green color in HSV format\n",
        "# hue_min, sat_min, val_min = green_lower_hsv\n",
        "# hue_max, sat_max, val_max = green_upper_hsv\n",
        "\n",
        "# # Define a color range and apply a mask to extract only the pixels within that range\n",
        "# lower_range = np.array([hue_min, sat_min, val_min])\n",
        "# upper_range = np.array([hue_max, sat_max, val_max])\n",
        "# mask = cv2.inRange(hsv, lower_range, upper_range)\n",
        "\n",
        "# # Perform color segmentation using the masked image to identify the location of different colors in the image\n",
        "# segmented = cv2.bitwise_and(rotated, rotated, mask=mask)\n",
        "\n",
        "# # Display the input image, contour, and segmented image\n",
        "# cv2_imshow(img)\n",
        "# cv2_imshow(edges)\n",
        "# cv2_imshow(segmented)\n",
        "# cv2.waitKey(0)\n",
        "# cv2.destroyAllWindows()\n"
      ]
    },
    {
      "cell_type": "code",
      "source": [
        "from google.colab import drive\n",
        "drive.mount('/content/drive')"
      ],
      "metadata": {
        "colab": {
          "base_uri": "https://localhost:8080/"
        },
        "id": "MAEJjHZRAPTg",
        "outputId": "9d61578b-3a4e-415c-8bb6-64d18a7fe025"
      },
      "execution_count": null,
      "outputs": [
        {
          "output_type": "stream",
          "name": "stdout",
          "text": [
            "Drive already mounted at /content/drive; to attempt to forcibly remount, call drive.mount(\"/content/drive\", force_remount=True).\n"
          ]
        }
      ]
    },
    {
      "cell_type": "code",
      "source": [
        "import cv2\n",
        "import numpy as np\n",
        "import os\n",
        "\n",
        "# Create a folder to store the output images\n",
        "if not os.path.exists('/content/drive/MyDrive/cannabis/output_images'):\n",
        "    os.makedirs('/content/drive/MyDrive/cannabis/output_images')\n",
        "\n",
        "# Define the color ranges for each color\n",
        "green_lower = np.array([40, 40, 40])\n",
        "green_upper = np.array([70, 255, 255])\n",
        "yellow_lower = np.array([20, 40, 40])\n",
        "yellow_upper = np.array([40, 255, 255])\n",
        "brown_lower = np.array([0, 40, 40])\n",
        "brown_upper = np.array([20, 255, 255])\n",
        "purple_lower = np.array([140, 40, 40])\n",
        "purple_upper = np.array([170, 255, 255])\n",
        "color_ranges = [(green_lower, green_upper), (yellow_lower, yellow_upper), (brown_lower, brown_upper), (purple_lower, purple_upper)]\n",
        "colors = ['Green', 'Yellow', 'Brown', 'Purple']\n",
        "\n",
        "# Cycle through 5 images and perform color segmentation\n",
        "for i in range(7, 150):\n",
        "    # Read the image and convert it to grayscale\n",
        "    # img = cv2.imread(f'cannabis-{i}.png')\n",
        "    img = cv2.imread(f'/content/drive/MyDrive/cannabis/cannabis-{i}.png')\n",
        "    \n",
        "    # img = cv2.imread('cannabis-7.png')\n",
        "\n",
        "    gray = cv2.cvtColor(img, cv2.COLOR_BGR2GRAY)\n",
        "    # gray = cv2.cvtColor(img, cv2.COLOR_BGR2GRAY)\n",
        "\n",
        "\n",
        "    # Apply edge detection using Canny algorithm to identify the leaf's contour\n",
        "    edges = cv2.Canny(gray, 50, 150)\n",
        "\n",
        "    # Find contours in the image\n",
        "    contours, hierarchy = cv2.findContours(edges, cv2.RETR_TREE, cv2.CHAIN_APPROX_SIMPLE)\n",
        "\n",
        "    # Sort the contours by area to identify the largest one as the leaf\n",
        "    contours = sorted(contours, key=cv2.contourArea, reverse=True)[:1]\n",
        "\n",
        "    # Calculate the orientation of the leaf by finding the angle of the minimum bounding rectangle\n",
        "    rect = cv2.minAreaRect(contours[0])\n",
        "    angle = rect[-1]\n",
        "\n",
        "    # Rotate the image to align the leaf with the x-axis\n",
        "    (h, w) = img.shape[:2]\n",
        "    center = (w // 2, h // 2)\n",
        "    M = cv2.getRotationMatrix2D(center, angle, 1.0)\n",
        "    rotated = cv2.warpAffine(img, M, (w, h), flags=cv2.INTER_CUBIC, borderMode=cv2.BORDER_REPLICATE)\n",
        "\n",
        "    # Convert the image to HSV color space to identify the location of different colors\n",
        "    hsv = cv2.cvtColor(rotated, cv2.COLOR_BGR2HSV)\n",
        "\n",
        "    # Apply color segmentation to the image for each color and save the segmented images\n",
        "    for j, color_range in enumerate(color_ranges):\n",
        "        lower_range = np.array(color_range[0])\n",
        "        upper_range = np.array(color_range[1])\n",
        "        mask = cv2.inRange(hsv, lower_range, upper_range)\n",
        "        segmented = cv2.bitwise_and(rotated, rotated, mask=mask)\n",
        "        cv2.imwrite(f'/content/drive/MyDrive/cannabis/output_images/cannabis-{i}-{colors[j]}-Segmented.png', segmented)\n",
        "\n",
        "    # Draw the contour of the leaf and save the contour image\n",
        "    cv2.drawContours(rotated, contours, -1, (0, 255, 0), 2)\n",
        "    cv2.imwrite(f'/content/drive/MyDrive/cannabis/output_images/cannabis-{i}-Contour.png', rotated)"
      ],
      "metadata": {
        "colab": {
          "base_uri": "https://localhost:8080/",
          "height": 283
        },
        "id": "YiCWZm1LATBv",
        "outputId": "ba84114f-62ce-414d-eb00-cee7b675cd7c"
      },
      "execution_count": null,
      "outputs": [
        {
          "output_type": "error",
          "ename": "error",
          "evalue": "ignored",
          "traceback": [
            "\u001b[0;31m---------------------------------------------------------------------------\u001b[0m",
            "\u001b[0;31merror\u001b[0m                                     Traceback (most recent call last)",
            "\u001b[0;32m<ipython-input-35-0e839570cb20>\u001b[0m in \u001b[0;36m<module>\u001b[0;34m\u001b[0m\n\u001b[1;32m     27\u001b[0m     \u001b[0;31m# img = cv2.imread('cannabis-7.png')\u001b[0m\u001b[0;34m\u001b[0m\u001b[0;34m\u001b[0m\u001b[0;34m\u001b[0m\u001b[0m\n\u001b[1;32m     28\u001b[0m \u001b[0;34m\u001b[0m\u001b[0m\n\u001b[0;32m---> 29\u001b[0;31m     \u001b[0mgray\u001b[0m \u001b[0;34m=\u001b[0m \u001b[0mcv2\u001b[0m\u001b[0;34m.\u001b[0m\u001b[0mcvtColor\u001b[0m\u001b[0;34m(\u001b[0m\u001b[0mimg\u001b[0m\u001b[0;34m,\u001b[0m \u001b[0mcv2\u001b[0m\u001b[0;34m.\u001b[0m\u001b[0mCOLOR_BGR2GRAY\u001b[0m\u001b[0;34m)\u001b[0m\u001b[0;34m\u001b[0m\u001b[0;34m\u001b[0m\u001b[0m\n\u001b[0m\u001b[1;32m     30\u001b[0m     \u001b[0;31m# gray = cv2.cvtColor(img, cv2.COLOR_BGR2GRAY)\u001b[0m\u001b[0;34m\u001b[0m\u001b[0;34m\u001b[0m\u001b[0;34m\u001b[0m\u001b[0m\n\u001b[1;32m     31\u001b[0m \u001b[0;34m\u001b[0m\u001b[0m\n",
            "\u001b[0;31merror\u001b[0m: OpenCV(4.6.0) /io/opencv/modules/imgproc/src/color.cpp:182: error: (-215:Assertion failed) !_src.empty() in function 'cvtColor'\n"
          ]
        }
      ]
    }
  ]
}