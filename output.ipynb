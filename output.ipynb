{
  "nbformat": 4,
  "nbformat_minor": 0,
  "metadata": {
    "colab": {
      "provenance": []
    },
    "kernelspec": {
      "name": "python3",
      "display_name": "Python 3"
    },
    "language_info": {
      "name": "python"
    }
  },
  "cells": [
    {
      "cell_type": "code",
      "execution_count": null,
      "metadata": {
        "id": "RPmgLU0PUbjW"
      },
      "outputs": [],
      "source": [
        "import os\n",
        "import time\n",
        "\n",
        "\n",
        "def create_folder():\n",
        "    \"\"\"\n",
        "    Create a new folder with a timestamp as its name in the current working directory.\n",
        "    Returns the path to the newly created folder.\n",
        "    \"\"\"\n",
        "    timestamp = time.strftime(\"%Y%m%d-%H%M%S\")\n",
        "    folder_path = os.path.join(os.getcwd(), timestamp)\n",
        "    os.makedirs(folder_path, exist_ok=True)\n",
        "    return folder_path\n",
        "\n",
        "\n",
        "def move_images(images_list, folder_path):\n",
        "    \"\"\"\n",
        "    Move a list of images to the specified folder.\n",
        "    :param images_list: List of image file paths to move\n",
        "    :param folder_path: Path to the folder where images will be moved\n",
        "    \"\"\"\n",
        "    for img_path in images_list:\n",
        "        img_name = os.path.basename(img_path)\n",
        "        new_path = os.path.join(folder_path, img_name)\n",
        "        os.replace(img_path, new_path)"
      ]
    }
  ]
}
